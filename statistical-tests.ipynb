{
 "cells": [
  {
   "metadata": {},
   "cell_type": "markdown",
   "source": [
    "Install Required Libraries\n",
    "\n",
    "`pip install -r requirements.txt`"
   ],
   "id": "43f95a544e871dce"
  },
  {
   "cell_type": "code",
   "id": "initial_id",
   "metadata": {
    "collapsed": true,
    "ExecuteTime": {
     "end_time": "2024-12-06T12:25:31.816753Z",
     "start_time": "2024-12-06T12:25:20.800137Z"
    }
   },
   "source": [
    "import numpy as np\n",
    "from scipy.stats import  chi2_contingency, shapiro, mannwhitneyu\n",
    "import pandas as pd"
   ],
   "outputs": [],
   "execution_count": 1
  },
  {
   "metadata": {
    "ExecuteTime": {
     "end_time": "2024-12-06T12:25:31.821Z",
     "start_time": "2024-12-06T12:25:31.819470Z"
    }
   },
   "cell_type": "code",
   "source": [
    "# Load data\n",
    "file_path_week_1 = './data/The impact of the Microsoft Edge News Page on your work productivity.(1-98).xlsx'\n",
    "file_path_week_2 = './data/News and work productivity.(1-81).xlsx'\n",
    "file_path_week_3 = './data/The impact of the Microsoft Edge News Page on your work productivity.(1-63).xlsx'\n",
    "file_path_post_study = './data/MS Edge Study - Follow-Up Survey(1-13).xlsx'"
   ],
   "id": "d565fe07e0fd4605",
   "outputs": [],
   "execution_count": 2
  },
  {
   "metadata": {
    "ExecuteTime": {
     "end_time": "2024-12-06T12:25:31.972695Z",
     "start_time": "2024-12-06T12:25:31.887275Z"
    }
   },
   "cell_type": "code",
   "source": [
    "# convert data to pandas dataframe\n",
    "week_1_data = pd.read_excel(file_path_week_1)\n",
    "week_2_data = pd.read_excel(file_path_week_2)\n",
    "week_3_data = pd.read_excel(file_path_week_3)\n",
    "post_study_data = pd.read_excel(file_path_post_study)"
   ],
   "id": "a8472d0f930fd130",
   "outputs": [],
   "execution_count": 3
  },
  {
   "metadata": {
    "ExecuteTime": {
     "end_time": "2024-12-06T12:25:31.981963Z",
     "start_time": "2024-12-06T12:25:31.980574Z"
    }
   },
   "cell_type": "code",
   "source": [
    "translation_dict = {\n",
    "    \"Strongly Disagree\": -3,\n",
    "    \"Disagree\": -2,\n",
    "    \"Somewhat Disagree\": -1,\n",
    "    \"Neither Agree nor Disagree\": 0,\n",
    "    \"Somewhat Agree\": 1,\n",
    "    \"Agree\": 2,\n",
    "    \"Strongly Agree\": 3,\n",
    "}"
   ],
   "id": "92ebace9be4a9f6a",
   "outputs": [],
   "execution_count": 4
  },
  {
   "metadata": {
    "ExecuteTime": {
     "end_time": "2024-12-06T12:25:31.991018Z",
     "start_time": "2024-12-06T12:25:31.989228Z"
    }
   },
   "cell_type": "code",
   "source": [
    "def test_normal_distribution(data: list) -> bool:\n",
    "    stat, p = shapiro(data)\n",
    "    print(f\"Shapiro-Wilk Test: W = {stat:.3f}, p = {p:.3f}\")\n",
    "    if p > 0.05:\n",
    "        print(\"Data is normally distributed\")\n",
    "        return True\n",
    "    else:\n",
    "        print(\"Data is not normally distributed\")\n",
    "        return False"
   ],
   "id": "f1aea60fa565ac2f",
   "outputs": [],
   "execution_count": 5
  },
  {
   "metadata": {
    "ExecuteTime": {
     "end_time": "2024-12-06T12:25:32.000036Z",
     "start_time": "2024-12-06T12:25:31.997867Z"
    }
   },
   "cell_type": "code",
   "source": [
    "def mann_whitney_test_distractions():\n",
    "    print(\"DISTRACTIONS - comparison between weeks\")\n",
    "    week_1_distractions = np.array([translation_dict[x] for x in week_1_data[\"Opinion\"]])\n",
    "    week_2_distractions = np.array([translation_dict[x] for x in week_2_data[\"Opinion\"]])\n",
    "    week_3_distractions = np.array([translation_dict[x] for x in week_3_data[\"Opinion\"]])\n",
    "    print(\"average distractions for week 1: \", np.mean(week_1_distractions))\n",
    "    print(\"average distractions for week 2: \", np.mean(week_2_distractions))\n",
    "    print(\"average distractions for week 3: \", np.mean(week_3_distractions))\n",
    "\n",
    "    stat, p = mannwhitneyu(week_1_distractions, week_2_distractions)\n",
    "    print(f\"Mann Whitney U Test Week 1 vs Week 2: U = {stat:.3f}, p = {p:.3f}\")\n",
    "    stat, p = mannwhitneyu(week_1_distractions, week_3_distractions)\n",
    "    print(f\"Mann Whitney U Test Week 1 vs Week 3: U = {stat:.3f}, p = {p:.3f}\")\n",
    "    print(\"----------------------------------------\")\n",
    "    print()"
   ],
   "id": "2f33331add29eb6a",
   "outputs": [],
   "execution_count": 6
  },
  {
   "metadata": {
    "ExecuteTime": {
     "end_time": "2024-12-06T12:25:32.009246Z",
     "start_time": "2024-12-06T12:25:32.006929Z"
    }
   },
   "cell_type": "code",
   "source": [
    "def mann_whitney_test_non_work_related_activities():\n",
    "    print(\"Time spent on non-work related activities - comparison between weeks\")\n",
    "    week_1_time = np.array([x for x in week_1_data[\n",
    "        \"How much time did you spend with non-work related activities in your browser? (example: reading news) CLEANED\"]])\n",
    "    week_2_time = np.array([x for x in week_2_data[\n",
    "        \"How much time did you spend with non-work related activities in your browser? (example: reading news) CLEANED\"]])\n",
    "    week_3_time = np.array([x for x in week_3_data[\n",
    "        \"How much time did you spend with non-work related activities in your browser? (example: reading news) CLEANED\"]])\n",
    "\n",
    "    print(\"average time spent on non-work related activities for week 1: \", np.mean(week_1_time))\n",
    "    print(\"average time spent on non-work related activities for week 2: \", np.mean(week_2_time))\n",
    "    print(\"average time spent on non-work related activities for week 3: \", np.mean(week_3_time))\n",
    "\n",
    "    stat, p = mannwhitneyu(week_1_time, week_2_time)\n",
    "    print(f\"Mann Whitney U Test Week 1 vs Week 2: U = {stat:.3f}, p = {p:.3f}\")\n",
    "    stat, p = mannwhitneyu(week_1_time, week_3_time)\n",
    "    print(f\"Mann Whitney U Test Week 1 vs Week 3: U = {stat:.3f}, p = {p:.3f}\")\n",
    "    print(\"----------------------------------------\")\n",
    "    print()"
   ],
   "id": "510ad61563229666",
   "outputs": [],
   "execution_count": 7
  },
  {
   "metadata": {
    "ExecuteTime": {
     "end_time": "2024-12-06T12:25:32.017989Z",
     "start_time": "2024-12-06T12:25:32.016237Z"
    }
   },
   "cell_type": "code",
   "source": [
    "def chi_test():\n",
    "    print(\"Relationship between preferred edge settings, and time spent checking the news\")\n",
    "    preferences = pd.crosstab(post_study_data[\"Which MS Edge setting do you prefer?\"], post_study_data[\n",
    "        \"Do you think that using Edge with the news feed led you to spend more time checking the news?\\n\"])\n",
    "    contingency_table = preferences.values\n",
    "    chi2_stat, p_chi2, _, _ = chi2_contingency(contingency_table)\n",
    "    print(f\"Chi-Square Test: chi2 = {chi2_stat:.3f}, p = {p_chi2:.3f}\")\n",
    "    print(\"----------------------------------------\")\n",
    "    print()"
   ],
   "id": "b522a6b56d213830",
   "outputs": [],
   "execution_count": 8
  },
  {
   "metadata": {
    "ExecuteTime": {
     "end_time": "2024-12-06T12:25:32.032744Z",
     "start_time": "2024-12-06T12:25:32.025490Z"
    }
   },
   "cell_type": "code",
   "source": [
    "mann_whitney_test_distractions()\n",
    "mann_whitney_test_non_work_related_activities()\n",
    "chi_test()"
   ],
   "id": "1c1eb312bc6a5902",
   "outputs": [
    {
     "name": "stdout",
     "output_type": "stream",
     "text": [
      "DISTRACTIONS - comparison between weeks\n",
      "average distractions for week 1:  -0.6530612244897959\n",
      "average distractions for week 2:  -1.5925925925925926\n",
      "average distractions for week 3:  -0.9047619047619048\n",
      "Mann Whitney U Test Week 1 vs Week 2: U = 5316.000, p = 0.000\n",
      "Mann Whitney U Test Week 1 vs Week 3: U = 3374.500, p = 0.311\n",
      "----------------------------------------\n",
      "\n",
      "Time spent on non-work related activities - comparison between weeks\n",
      "average time spent on non-work related activities for week 1:  2.9285714285714284\n",
      "average time spent on non-work related activities for week 2:  2.308641975308642\n",
      "average time spent on non-work related activities for week 3:  2.507936507936508\n",
      "Mann Whitney U Test Week 1 vs Week 2: U = 4454.500, p = 0.140\n",
      "Mann Whitney U Test Week 1 vs Week 3: U = 3042.000, p = 0.874\n",
      "----------------------------------------\n",
      "\n",
      "Relationship between preferred edge settings, and time spent checking the news\n",
      "Chi-Square Test: chi2 = 1.376, p = 0.503\n",
      "----------------------------------------\n",
      "\n"
     ]
    }
   ],
   "execution_count": 9
  }
 ],
 "metadata": {
  "kernelspec": {
   "display_name": "Python 3",
   "language": "python",
   "name": "python3"
  },
  "language_info": {
   "codemirror_mode": {
    "name": "ipython",
    "version": 2
   },
   "file_extension": ".py",
   "mimetype": "text/x-python",
   "name": "python",
   "nbconvert_exporter": "python",
   "pygments_lexer": "ipython2",
   "version": "2.7.6"
  }
 },
 "nbformat": 4,
 "nbformat_minor": 5
}
